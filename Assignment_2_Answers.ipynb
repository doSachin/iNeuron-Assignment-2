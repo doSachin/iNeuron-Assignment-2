{
 "cells": [
  {
   "cell_type": "markdown",
   "id": "b264b4c2",
   "metadata": {},
   "source": [
    "<h1 align=\"center\" ><span style=\"color: blue; font-size: 48px; \"><b> Assignment No. 2</b></span></h1>\n",
    "\n",
    "<h1 style=\"font-family: Trebuchet MS; font-size: 14px; color: #34495E; text-align: right; \">Submitted By: Sachin Dodake</h1>\n",
    "\n",
    "<hr style=\"height:3px;border-width:1;color:blue;background-color:blue\">"
   ]
  },
  {
   "cell_type": "markdown",
   "id": "1957d8c1",
   "metadata": {},
   "source": [
    " ### 1. What are the two values of the `Boolean data type`? How do you write them?"
   ]
  },
  {
   "cell_type": "markdown",
   "id": "30eaee98",
   "metadata": {},
   "source": [
    "**`Ans-1`**\n",
    ">- Python boolean type is one of the built-in data types provided by Python, which represents one of the two values i.e. `True` or `False`. \n",
    ">- It is used to represent the truth values of the expressions. For example, `1==1` is `True` whereas `2<1` is `False`. \n",
    ">-  The Python Boolean type has only two possible values:\n",
    "                        i)  True\n",
    "                        ii)  False\n",
    ">- The first letter of these boolean data types must be a capital. \n",
    "\n",
    "> **Few observations of Boolean Dat Types:**    \n",
    "\n",
    ">  **i) Most Values are True:**\n",
    ">- Almost any value is evaluated to True if it has some sort of content.\n",
    ">- Any string is True, except empty strings.\n",
    ">- Any number is True, except 0.\n",
    ">- Any list, tuple, set, and dictionary are True, except empty ones.\n",
    ">- **Examples:**\n",
    "            i) bool(\"abc\") -----------------------------------> True.\n",
    "            ii) bool(123) ------------------------------------> True.\n",
    "            iii) bool([\"apple\", \"cherry\", \"banana\"]) ---> True.\n",
    "\n",
    ">  **ii) Some Values are False:**\n",
    ">- In fact, there are not many values that evaluate to False, except empty values, such as (), [], {}, \"\", the number 0, and the value None. And of course the value False evaluates to False.\n",
    ">- **Examples:**\n",
    "            i) bool(False) -----------------------------------> False.\n",
    "            ii) bool(None) -----------------------------------> False.\n",
    "            iii) bool(0) -----------------------------------> False.\n",
    "            iv) bool(\"\") -----------------------------------> False.\n",
    "            v) bool(()) -----------------------------------> False.\n",
    "            vi) bool([]) -----------------------------------> False.\n",
    "            vii) bool({}) -----------------------------------> False.\n"
   ]
  },
  {
   "cell_type": "markdown",
   "id": "17037ad9",
   "metadata": {},
   "source": [
    " ### 2. What are the three different types of `Boolean operators`?"
   ]
  },
  {
   "cell_type": "markdown",
   "id": "a4761102",
   "metadata": {},
   "source": [
    "**`Ans-2`**\n",
    ">- **Definition:** Boolean operators are those that take Boolean inputs and return Boolean results.\n",
    ">- Boolean operators are used in a boolean expression to return boolean values.\n",
    ">- Secondly, Boolean operators can compress multiple if-else boolean expressions into one single line of code.\n",
    ">- Lastly, there are three types of python boolean operators:\n",
    "            i) `and` operator (Conjunction);\n",
    "            ii) `or` operator (Disjunction);\n",
    "            iii) `not` operator (Negation).\n",
    "\n",
    "\n",
    "> **`i) and-operator:`**\n",
    ">- The `AND` boolean operator is similar to the `bitwise AND` operator where the operator analyzes the expressions written on both sides and returns the output.\n",
    " > | Operand-1| AND | Operand-2 | Result |\n",
    "> | :---: | :---: | :---: |:---: |\n",
    "> | True | and | True | True |\n",
    "> | True | and | False | False |\n",
    "> | False | and | False | True |\n",
    "> | False | and | True | True |\n",
    "\n",
    "\n",
    "\n",
    "> **`ii) or-operator:`**\n",
    ">- The `OR` operator is similar to the `bitwise OR` operator. In the `bitwise OR`, we were focussing on either of the bit being 1. Here, we take into account if either of the expression is true or not. If at least one expression is true, consequently, the result is true.\n",
    "> | Operand-1| OR | Operand-2 | Result |\n",
    "> | :---: | :---: | :---: |:---: |\n",
    "> | True | or | True | True |\n",
    "> | True | or | False | True |\n",
    "> | False | or | True | True |\n",
    "> | False | or | False | False |\n",
    "\n",
    "\n",
    "\n",
    "> **`iii) not-operator:`**\n",
    ">- The `NOT` operator reverses the result of the boolean expression that follows the operator. It is important to note that the `NOT` operator will only reverse the final result of the expression that immediately follows. Moreover, the `NOT` operator is denoted by the keyword `not`.\n",
    "> | NOT | Operand | Result |\n",
    "> | :---: | :---: |:---: |\n",
    "> | not | True | False |\n",
    "> | not | False | True|\n"
   ]
  },
  {
   "cell_type": "markdown",
   "id": "9072cc38",
   "metadata": {},
   "source": [
    "### 3. Make a list of each `Boolean Operator's` truth tables (i.e. every possible combination of Boolean values for the operator and what it evaluate )."
   ]
  },
  {
   "cell_type": "markdown",
   "id": "7b2f07d1",
   "metadata": {},
   "source": [
    "**`Ans-3`**\n",
    ">- The truth table for various Boolean Operators are as below:\n",
    "\n",
    "> **`i) AND Truth Table:`**\n",
    ">- The truth table for boolean 'AND' is as below:\n",
    "> | Operand-1| AND | Operand-2 | Result |\n",
    "> | :---: | :---: | :---: |:---: |\n",
    "> | True | and | True | True |\n",
    "> | True | and | False | False |\n",
    "> | False | and | False | True |\n",
    "> | False | and | True | True |\n",
    "    \n",
    "    \n",
    "> **`ii) OR Truth Table:`**\n",
    ">- The truth table for boolean 'OR' is as below:    \n",
    "> | Operand-1| OR | Operand-2 | Result |\n",
    "> | :---: | :---: | :---: |:---: |\n",
    "> | True | or | True | True |\n",
    "> | True | or | False | True |\n",
    "> | False | or | True | True |\n",
    "> | False | or | False | False |\n",
    "    \n",
    "    \n",
    "> **`iii) NOT Truth Table:`**\n",
    ">- The truth table for boolean 'NOT' is as below:\n",
    "> | NOT | Operand | Result |\n",
    "> | :---: | :---: |:---: |\n",
    "> | not | True | False |\n",
    "> | not | False | True |"
   ]
  },
  {
   "cell_type": "markdown",
   "id": "0fd5b2fe",
   "metadata": {
    "ExecuteTime": {
     "end_time": "2023-05-27T13:53:04.022808Z",
     "start_time": "2023-05-27T13:53:04.000769Z"
    }
   },
   "source": [
    "### 4. What are the values of the following expressions?"
   ]
  },
  {
   "cell_type": "markdown",
   "id": "1674741d",
   "metadata": {
    "ExecuteTime": {
     "end_time": "2023-05-27T13:53:04.022808Z",
     "start_time": "2023-05-27T13:53:04.000769Z"
    }
   },
   "source": [
    "        i ) (5 > 4) and (3 == 5)\n",
    "        ii) not (5 > 4)\n",
    "        iii) (5 > 4) or (3 == 5)\n",
    "        iv) not ((5 > 4) or (3 == 5))\n",
    "        v) (True and True) and (True == False)\n",
    "        vi) (not False) or (not True)"
   ]
  },
  {
   "cell_type": "markdown",
   "id": "5bea854e",
   "metadata": {
    "ExecuteTime": {
     "end_time": "2023-05-27T19:13:58.123154Z",
     "start_time": "2023-05-27T19:13:58.080317Z"
    }
   },
   "source": [
    "**`Ans-4:`**     \n",
    "> i ) (5 > 4) and (3 == 5)  =====> `False`.     \n",
    "> ii) not (5 > 4) =====> `False`.      \n",
    "> iii) (5 > 4) or (3 == 5) =====> `True`        \n",
    "> iv) not ((5 > 4) or (3 == 5)) =====> `False`      \n",
    "> v) (True and True) and (True == False) =====> `False`     \n",
    "> vi) (not False) or (not True) =====> `True`."
   ]
  },
  {
   "cell_type": "markdown",
   "id": "e8767852",
   "metadata": {},
   "source": [
    "### 5. What are the six `comparison operators`?"
   ]
  },
  {
   "cell_type": "markdown",
   "id": "39d86c4d",
   "metadata": {},
   "source": [
    ">- A comparison operator compares two values and returns a `boolean value`, either `True` or `False`.\n",
    ">- We can use these comparison operators to compare both `numbers` and `strings`.\n",
    ">- Python has six comparison operators, which are as follows:\n",
    "            i) less than (<),\n",
    "            ii) less than or equal to (<=), \n",
    "            iii) greater than (>), \n",
    "            iv) greater than or equal to (>=), \n",
    "            v) equal to (==), \n",
    "            vi) not equal to (!=).\n",
    "            \n",
    "> **`i) Less than operator (<):`**\n",
    ">- The Less Than operator (<) compares two values and returns True if the value on the left is less than the value on the right. Otherwise, it returns False:\n",
    ">-  Syntax:        \n",
    "                left_value  < right_value\n",
    ">- Example: \n",
    "        i) 10 < 20 =====> True   #\n",
    "        ii) 30 < 20 =====> False  #\n",
    "        iii) apple < orange  =====>True   # True because the letter a in apple is before the letter o in orange\n",
    "         iv) banana < apple =====> False   # False because the letter 'b' is after the letter 'a'\n",
    "\n",
    "> **`ii) Less than or equal to operator (<=):`**\n",
    ">-  The less than or equal to operator compares two values and returns True if the left value is less than or equal to the right value. Otherwise, it returns False:\n",
    ">-  Syntax:        \n",
    "               left_value <= right_value\n",
    ">- Example: \n",
    "        i) 20 <= 20 =====> True\n",
    "        ii) 10 <= 20 =====> True\n",
    "        iii) 30 <= 30 =====> True\n",
    "\n",
    "> **`iii) Greater than operator (>):`**\n",
    ">-  The greater than operator (>) compares two values and returns True if the left value is greater than the right value. Otherwise, it returns False\n",
    ">-  Syntax:        \n",
    "               left_value > right_value\n",
    ">- Example: \n",
    "        i) 20 > 10 =====> True\n",
    "        ii) 20 > 20 =====> False\n",
    "        iii) apple > orange =====> False\n",
    "        iv) orange > apple =====> True\n",
    "\n",
    "> **`iv) Greater Than or Equal To operator (>=):`**\n",
    ">-  The greater than or equal to operator (>=) compares two values and returns True if the left value is greater than or equal to the right value. Otherwise, it returns False.\n",
    ">-  Syntax:        \n",
    "               left_value >= right_value\n",
    ">- Example: \n",
    "        i) 20 >= 10 =====> True\n",
    "        ii) 20 >= 20 =====> True\n",
    "        iii) 10 >= 20 =====> False\n",
    "\n",
    "> **`v) Equal To operator (==):`**\n",
    ">-  The equal to operator (==) compares two values and returns True if the left value is equal to the right value. Otherwise, it returns False \n",
    ">-  Syntax:        \n",
    "               left_value == right_value\n",
    ">- Example: \n",
    "        i) 20 == 10 =====> False\n",
    "        ii) 20 == 20 =====> True\n",
    "\n",
    "> **`vi) Not Equal To operator (!=):`**\n",
    ">-  The not equal to operator (!=) compares two values and returns True if the left value isn’t equal to the right value. Otherwise, it returns False.\n",
    ">-  Syntax:        \n",
    "               left_value != right_value\n",
    ">- Example: \n",
    "        i) 20 != 20 =====> False\n",
    "        ii) 20 != 10 =====> True\n"
   ]
  },
  {
   "cell_type": "markdown",
   "id": "a517a9f8",
   "metadata": {},
   "source": [
    "### 6. How do you tell the difference between the `equal to (==)` and `assignment (=)` operators?Describe a condition and when you would use one."
   ]
  },
  {
   "cell_type": "markdown",
   "id": "67532753",
   "metadata": {},
   "source": [
    "**`Ans-6`**\n",
    "\n",
    "> **`Equal To Operator (==):`**\n",
    ">-  Two consecutive equal marks is used to check whether 2 expressions give the same value . \n",
    ">-  It is used for comparing two values. It returns 1 if both the values are equal otherwise returns 0. \n",
    ">- Constant term can be placed in the left hand side. Example: 1==1 is valid and returns 1. \n",
    ">- Example: \n",
    "        i) 1212 == 2323 =====> False\n",
    "        ii) 1111 == 2222 =====> False\n",
    "\n",
    "> **`Assignment Operator (=):`**\n",
    ">-  A single equal mark is used to assign a value to a variable.\n",
    ">-  It is used for assigning the value to a variable.\n",
    ">-  Constant term cannot be placed on left hand side. Example: 1=x; is invalid.\n",
    ">- Example: \n",
    "        i) a = 55       # assign value  \n",
    "            b = 22       # assign the expression to the left operand  \n"
   ]
  },
  {
   "cell_type": "markdown",
   "id": "dcec85ce",
   "metadata": {},
   "source": [
    "###  7. Identify the three blocks in this code:"
   ]
  },
  {
   "cell_type": "markdown",
   "id": "f7428bd7",
   "metadata": {},
   "source": [
    "            spam = 0\n",
    "            if spam == 10:\n",
    "                print('eggs')\n",
    "                if spam > 5:\n",
    "                    print('bacon')\n",
    "                else:\n",
    "                        print('ham')\n",
    "                print('spam')\n",
    "            print('spam')"
   ]
  },
  {
   "cell_type": "markdown",
   "id": "5107a44a",
   "metadata": {},
   "source": [
    "**`Ans-7`**\n",
    ">- Indentation is used to define a `block of code` in python. \n",
    ">- The `Braces {}` are used to define a block of code in most programming languages, like C, C++, and Java. But this `indentation` makes python unique among all programming languages.  This `indentation` highlights the `block of code`.\n",
    ">- In Python, indentation is done with whitespace. All statements with the same right-hand distance belong to the same code block. If a block needs to be more nested, it is indented to the right.\n",
    ">- Indentation is only used in most other programming languages to help make the code look nice. However, it is required in Python to indicate which block of code a statement belongs to.\n",
    ">- Few important points:\n",
    "        i) A block begins when the indentation increases.\n",
    "        ii) A block ends when the indentation decreases.\n",
    "        iii) Multiple blocks can be closed in the same decrease\n",
    ">- The blocks in the given code are mentioned below"
   ]
  },
  {
   "cell_type": "code",
   "execution_count": 73,
   "id": "feaefe91",
   "metadata": {
    "ExecuteTime": {
     "end_time": "2023-05-27T21:56:05.754766Z",
     "start_time": "2023-05-27T21:56:05.744768Z"
    }
   },
   "outputs": [
    {
     "name": "stdout",
     "output_type": "stream",
     "text": [
      "spam\n"
     ]
    }
   ],
   "source": [
    "spam = 0\n",
    "if spam == 10:\n",
    "    print('eggs')   # Block-1\n",
    "    if spam > 5:\n",
    "        print('bacon')  # Block-2\n",
    "    else:\n",
    "        print('ham')   # Block-3\n",
    "    print('spam')\n",
    "print('spam')"
   ]
  },
  {
   "cell_type": "markdown",
   "id": "9d468e69",
   "metadata": {},
   "source": [
    "### 8. Write code that prints `Hello` if 1 is stored in spam, prints `Howdy` if 2 is stored in spam, and prints `Greetings!` if anything else is stored in spam."
   ]
  },
  {
   "cell_type": "markdown",
   "id": "2cba7792",
   "metadata": {},
   "source": [
    "**`Ans-8`**"
   ]
  },
  {
   "cell_type": "code",
   "execution_count": 78,
   "id": "345ad131",
   "metadata": {
    "ExecuteTime": {
     "end_time": "2023-05-27T21:56:32.847170Z",
     "start_time": "2023-05-27T21:56:31.606850Z"
    }
   },
   "outputs": [
    {
     "name": "stdout",
     "output_type": "stream",
     "text": [
      "Enter the Number :  1\n",
      "Hello\n"
     ]
    }
   ],
   "source": [
    "#  taking number from user\n",
    "spam = eval(input(\"Enter the Number :  \"))\n",
    "\n",
    "if spam ==1:\n",
    "    print(\"Hello\")\n",
    "elif spam == 2:\n",
    "    print(\"Howdy\")\n",
    "else:\n",
    "    print(\"Greetings!\")"
   ]
  },
  {
   "cell_type": "markdown",
   "id": "c52cbb28",
   "metadata": {},
   "source": [
    "### 9. If your programme is stuck in an endless loop, what keys you’ll press?"
   ]
  },
  {
   "cell_type": "markdown",
   "id": "03ddd42b",
   "metadata": {},
   "source": [
    "**`Ans-9`**\n",
    ">- An endless loop occurs when a program keeps executing within one loop, never leaving it. \n",
    ">- To exit out of infinite loops on the command line, press `CTRL + C`."
   ]
  },
  {
   "cell_type": "markdown",
   "id": "840f80e9",
   "metadata": {},
   "source": [
    "### 10. How can you tell the difference between `break` and `continue`?"
   ]
  },
  {
   "cell_type": "markdown",
   "id": "cadb2fde",
   "metadata": {},
   "source": [
    "**`Ans-10`**\n",
    "\n",
    "> **`break:`**\n",
    ">- A break statement in Python alters the flow of a loop by terminating it once a specified condition is met.\n",
    ">- The break statement in Python terminates the loop containing it.\n",
    ">- A break statement is used to terminate the loop whenever a particular condition is satisfied. \n",
    ">- The statement is there just next after the loop receives control of the program. \n",
    ">- The break statement will end the innermost loop if it is contained within a nested loop that is the loop inside the other loop. \n",
    ">- It is used to end the loop that it is enclosed in, such as a do-while, while, switch, and for statement.\n"
   ]
  },
  {
   "cell_type": "code",
   "execution_count": 79,
   "id": "88fe24e0",
   "metadata": {
    "ExecuteTime": {
     "end_time": "2023-05-27T21:56:38.776206Z",
     "start_time": "2023-05-27T21:56:38.766057Z"
    }
   },
   "outputs": [
    {
     "name": "stdout",
     "output_type": "stream",
     "text": [
      "Iteration: 0\n",
      "Iteration: 1\n",
      "Iteration: 2\n",
      "Iteration: 3\n",
      "Iteration: 4\n"
     ]
    }
   ],
   "source": [
    "# example of break statement\n",
    "\n",
    "for num in range(0,10):\n",
    "    if num == 5:\n",
    "        break\n",
    "    print(f'Iteration: {num}')"
   ]
  },
  {
   "cell_type": "markdown",
   "id": "0343ec61",
   "metadata": {},
   "source": [
    "> **`continue:`**\n",
    ">- The continue statement in Python is used to skip the remaining code inside a loop for the current iteration only.\n",
    ">- The continue statement is used to skip the remaining code inside a loop for the current iteration only.\n",
    ">- The continue statement skips the remaining lines of code, for the current iteration of the loop. \n",
    ">- In this case, the loop does not end, it continues with the next iteration."
   ]
  },
  {
   "cell_type": "code",
   "execution_count": 80,
   "id": "5efab638",
   "metadata": {
    "ExecuteTime": {
     "end_time": "2023-05-27T21:56:39.403228Z",
     "start_time": "2023-05-27T21:56:39.389230Z"
    }
   },
   "outputs": [
    {
     "name": "stdout",
     "output_type": "stream",
     "text": [
      "Iteration: 0\n",
      "Iteration: 1\n",
      "Iteration: 2\n",
      "Iteration: 3\n",
      "Iteration: 4\n",
      "Iteration: 6\n",
      "Iteration: 7\n",
      "Iteration: 8\n",
      "Iteration: 9\n"
     ]
    }
   ],
   "source": [
    "# example of continue statement\n",
    "\n",
    "for num in range(0,10):\n",
    "    if num == 5:\n",
    "        continue    \n",
    "    print(f'Iteration: {num}')"
   ]
  },
  {
   "cell_type": "markdown",
   "id": "c06ecc6d",
   "metadata": {},
   "source": [
    "### 11. In a `for loop`, what is the difference between `range(10)`, `range(0, 10)`, and `range(0, 10, 1)`?"
   ]
  },
  {
   "cell_type": "markdown",
   "id": "4f2cb623",
   "metadata": {},
   "source": [
    "**`Ans-11`**\n",
    "\n",
    "> **`range() :`**\n",
    ">- The range() function returns a sequence of numbers, starting from 0 by default, and increments by 1 (by default), and stops before a specified number.\n",
    ">- Syntax:\n",
    "            range(start, stop, step)\n",
    ">- Parameters:\n",
    "            start - Optional. An integer number specifying at which position to start. Default is 0\n",
    "            stop -  Required. An integer number specifying at which position to stop (not included).\n",
    "            step - Optional. An integer number specifying the incrementation. Default is 1\n",
    "            \n",
    "> **`Expalination:`**\n",
    ">- There is no difference between `range(10)`, `range(1,10)`, and `range(0,10,1)` because all these repressents the ame output value.\n",
    ">- The output of all these are shown below:"
   ]
  },
  {
   "cell_type": "code",
   "execution_count": 81,
   "id": "e90c94bc",
   "metadata": {
    "ExecuteTime": {
     "end_time": "2023-05-27T21:56:40.706943Z",
     "start_time": "2023-05-27T21:56:40.693945Z"
    }
   },
   "outputs": [
    {
     "name": "stdout",
     "output_type": "stream",
     "text": [
      "0 1 2 3 4 5 6 7 8 9 "
     ]
    }
   ],
   "source": [
    "# using python range(10) function\n",
    "for i in range(10):\n",
    "    print( i, end=\" \")"
   ]
  },
  {
   "cell_type": "code",
   "execution_count": 82,
   "id": "75e18d08",
   "metadata": {
    "ExecuteTime": {
     "end_time": "2023-05-27T21:56:41.240639Z",
     "start_time": "2023-05-27T21:56:41.232631Z"
    }
   },
   "outputs": [
    {
     "name": "stdout",
     "output_type": "stream",
     "text": [
      "0 1 2 3 4 5 6 7 8 9 "
     ]
    }
   ],
   "source": [
    "# using python range(0,10) function\n",
    "for i in range(0,10):\n",
    "    print(i, end=\" \")"
   ]
  },
  {
   "cell_type": "code",
   "execution_count": 83,
   "id": "487800fc",
   "metadata": {
    "ExecuteTime": {
     "end_time": "2023-05-27T21:56:41.709907Z",
     "start_time": "2023-05-27T21:56:41.696951Z"
    }
   },
   "outputs": [
    {
     "name": "stdout",
     "output_type": "stream",
     "text": [
      "0 1 2 3 4 5 6 7 8 9 "
     ]
    }
   ],
   "source": [
    "# using python range(0,10,1) function\n",
    "for i in range(0,10,1):\n",
    "    print(i, end=\" \")"
   ]
  },
  {
   "cell_type": "markdown",
   "id": "dc391934",
   "metadata": {},
   "source": [
    "### 12. Write a short program that prints the numbers 1 to 10 using a `for loop`. Then write an equivalent program that prints the numbers 1 to 10 using a `while loop`."
   ]
  },
  {
   "cell_type": "markdown",
   "id": "dc734d04",
   "metadata": {},
   "source": [
    "**`Ans-12`**"
   ]
  },
  {
   "cell_type": "markdown",
   "id": "0811c9ab",
   "metadata": {
    "ExecuteTime": {
     "end_time": "2023-05-27T21:45:34.553191Z",
     "start_time": "2023-05-27T21:45:34.546183Z"
    }
   },
   "source": [
    "> **`Using for loop`**"
   ]
  },
  {
   "cell_type": "code",
   "execution_count": 84,
   "id": "cf772bd0",
   "metadata": {
    "ExecuteTime": {
     "end_time": "2023-05-27T21:56:43.663105Z",
     "start_time": "2023-05-27T21:56:43.653605Z"
    }
   },
   "outputs": [
    {
     "name": "stdout",
     "output_type": "stream",
     "text": [
      "1\n",
      "2\n",
      "3\n",
      "4\n",
      "5\n",
      "6\n",
      "7\n",
      "8\n",
      "9\n",
      "10\n"
     ]
    }
   ],
   "source": [
    "for num in range(1, 11):    #  looping i in range from 1 to 10\n",
    "    print(num)                           # printing value of i"
   ]
  },
  {
   "cell_type": "markdown",
   "id": "33927235",
   "metadata": {
    "ExecuteTime": {
     "end_time": "2023-05-27T21:45:42.817096Z",
     "start_time": "2023-05-27T21:45:42.805017Z"
    }
   },
   "source": [
    "> **`Using while loop`**"
   ]
  },
  {
   "cell_type": "code",
   "execution_count": 85,
   "id": "1a1dc5d5",
   "metadata": {
    "ExecuteTime": {
     "end_time": "2023-05-27T21:56:44.573047Z",
     "start_time": "2023-05-27T21:56:44.551015Z"
    }
   },
   "outputs": [
    {
     "name": "stdout",
     "output_type": "stream",
     "text": [
      "1\n",
      "2\n",
      "3\n",
      "4\n",
      "5\n",
      "6\n",
      "7\n",
      "8\n",
      "9\n",
      "10\n"
     ]
    }
   ],
   "source": [
    "num = 1                           # defining variable num with value 1\n",
    "while num<=10:        #  applying while loop with condition \n",
    "    print(num)                  # printing number\n",
    "    num+=1                     # increamenting number to get next number"
   ]
  },
  {
   "cell_type": "markdown",
   "id": "d6324203",
   "metadata": {},
   "source": [
    "### 13. If you had a `function` named bacon() inside a `module` named spam, how would you call it after importing spam?"
   ]
  },
  {
   "cell_type": "markdown",
   "id": "93f023e7",
   "metadata": {},
   "source": [
    "**`Ans-13`**\n",
    "\n",
    "\n"
   ]
  },
  {
   "cell_type": "code",
   "execution_count": null,
   "id": "d6ba53b7",
   "metadata": {
    "ExecuteTime": {
     "end_time": "2023-05-27T21:56:46.133313Z",
     "start_time": "2023-05-27T21:56:46.059127Z"
    }
   },
   "outputs": [],
   "source": [
    "  # importing 'spam'  module\n",
    "import spam\n",
    "\n",
    "# calling bacon-function from spam-module\n",
    "spam.bacon()"
   ]
  },
  {
   "cell_type": "code",
   "execution_count": null,
   "id": "f4fcc7b9",
   "metadata": {},
   "outputs": [],
   "source": []
  }
 ],
 "metadata": {
  "hide_input": false,
  "kernelspec": {
   "display_name": "Python 3 (ipykernel)",
   "language": "python",
   "name": "python3"
  },
  "language_info": {
   "codemirror_mode": {
    "name": "ipython",
    "version": 3
   },
   "file_extension": ".py",
   "mimetype": "text/x-python",
   "name": "python",
   "nbconvert_exporter": "python",
   "pygments_lexer": "ipython3",
   "version": "3.10.9"
  },
  "varInspector": {
   "cols": {
    "lenName": 16,
    "lenType": 16,
    "lenVar": 40
   },
   "kernels_config": {
    "python": {
     "delete_cmd_postfix": "",
     "delete_cmd_prefix": "del ",
     "library": "var_list.py",
     "varRefreshCmd": "print(var_dic_list())"
    },
    "r": {
     "delete_cmd_postfix": ") ",
     "delete_cmd_prefix": "rm(",
     "library": "var_list.r",
     "varRefreshCmd": "cat(var_dic_list()) "
    }
   },
   "types_to_exclude": [
    "module",
    "function",
    "builtin_function_or_method",
    "instance",
    "_Feature"
   ],
   "window_display": false
  }
 },
 "nbformat": 4,
 "nbformat_minor": 5
}
